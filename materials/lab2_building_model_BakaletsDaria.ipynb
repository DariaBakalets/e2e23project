{
 "cells": [
  {
   "cell_type": "markdown",
   "metadata": {},
   "source": [
    "## Lab 1.3 - Predicting Real Estate Data in St. Petersburg\n",
    "We have data from Yandex.Realty classified https://realty.yandex.ru containing real estate listings for apartments in St. Petersburg and Leningrad Oblast from 2016 till the middle of August 2018. In this Lab you'll learn how to apply machine learning algorithms to solve business problems. Accurate price prediction can help to find fraudsters automatically and help Yandex.Realty users to make better decisions when buying and selling real estate.\n",
    "\n",
    "Using python with machine learning algotithms is the #1 option for prototyping solutions among data scientists today. We'll take a look at it in this lab.\n",
    "\n",
    "### Main objectives\n",
    "After successful completion of the lab work students will be able to:\n",
    "-\tApply machine learning for solving price prediction problem\n",
    "-   Calculate metrics which can help us find out whether our machine learning model is ready for production\n",
    "\n",
    "### Tasks\n",
    "-\tEncode dataset\n",
    "-\tSplit dataset to train and validation datasets\n",
    "-\tApply decision tree algorithm to build ML (machine learning) model for price predictions\n",
    "-   Calculate metrics\n",
    "-   Try other algorithms and factors to get a better solution \n"
   ]
  },
  {
   "cell_type": "markdown",
   "metadata": {},
   "source": [
    "### 1. Load data with real estate prices"
   ]
  },
  {
   "cell_type": "code",
   "execution_count": 2,
   "metadata": {},
   "outputs": [
    {
     "name": "stdout",
     "output_type": "stream",
     "text": [
      "\n",
      "Usage:   \n",
      "  /opt/conda/bin/python -m pip install [options] <requirement specifier> [package-index-options] ...\n",
      "  /opt/conda/bin/python -m pip install [options] -r <requirements file> [package-index-options] ...\n",
      "  /opt/conda/bin/python -m pip install [options] [-e] <vcs project url> ...\n",
      "  /opt/conda/bin/python -m pip install [options] [-e] <local project path> ...\n",
      "  /opt/conda/bin/python -m pip install [options] <archive url/path> ...\n",
      "\n",
      "no such option: --upgrade!pip\n",
      "Collecting sklearn_pandas\n",
      "  Using cached sklearn_pandas-2.2.0-py2.py3-none-any.whl (10 kB)\n",
      "Requirement already satisfied: scipy>=1.5.1 in /opt/conda/lib/python3.9/site-packages (from sklearn_pandas) (1.7.1)\n",
      "Requirement already satisfied: pandas>=1.1.4 in /opt/conda/lib/python3.9/site-packages (from sklearn_pandas) (1.3.3)\n",
      "Requirement already satisfied: numpy>=1.18.1 in /opt/conda/lib/python3.9/site-packages (from sklearn_pandas) (1.20.3)\n",
      "Requirement already satisfied: scikit-learn>=0.23.0 in /opt/conda/lib/python3.9/site-packages (from sklearn_pandas) (0.24.2)\n",
      "Requirement already satisfied: python-dateutil>=2.7.3 in /opt/conda/lib/python3.9/site-packages (from pandas>=1.1.4->sklearn_pandas) (2.8.2)\n",
      "Requirement already satisfied: pytz>=2017.3 in /opt/conda/lib/python3.9/site-packages (from pandas>=1.1.4->sklearn_pandas) (2021.1)\n",
      "Requirement already satisfied: threadpoolctl>=2.0.0 in /opt/conda/lib/python3.9/site-packages (from scikit-learn>=0.23.0->sklearn_pandas) (2.2.0)\n",
      "Requirement already satisfied: joblib>=0.11 in /opt/conda/lib/python3.9/site-packages (from scikit-learn>=0.23.0->sklearn_pandas) (1.0.1)\n",
      "Requirement already satisfied: six>=1.5 in /opt/conda/lib/python3.9/site-packages (from python-dateutil>=2.7.3->pandas>=1.1.4->sklearn_pandas) (1.15.0)\n",
      "Installing collected packages: sklearn_pandas\n",
      "Successfully installed sklearn_pandas-2.2.0\n",
      "\n",
      "\u001b[1m[\u001b[0m\u001b[34;49mnotice\u001b[0m\u001b[1;39;49m]\u001b[0m\u001b[39;49m A new release of pip available: \u001b[0m\u001b[31;49m22.3.1\u001b[0m\u001b[39;49m -> \u001b[0m\u001b[32;49m23.1.2\u001b[0m\n",
      "\u001b[1m[\u001b[0m\u001b[34;49mnotice\u001b[0m\u001b[1;39;49m]\u001b[0m\u001b[39;49m To update, run: \u001b[0m\u001b[32;49mpip install --upgrade pip\u001b[0m\n"
     ]
    }
   ],
   "source": [
    "!python -m pip install scikit-learn --upgrade!pip install --upgrade pip\n",
    "!pip install sklearn_pandas"
   ]
  },
  {
   "cell_type": "code",
   "execution_count": 3,
   "metadata": {},
   "outputs": [],
   "source": [
    "import pandas as pd\n",
    "import seaborn as sns\n",
    "import scipy.stats as stats\n",
    "import matplotlib.style as style\n",
    "from matplotlib import pyplot as plt\n",
    "pd.set_option('display.max_columns', 500)\n",
    "pd.set_option('display.width', 1000)\n",
    "pd.set_option('display.max_colwidth', 1000)\n",
    "style.use('fivethirtyeight')\n",
    "\n",
    "from sklearn.model_selection import train_test_split\n",
    "from sklearn.model_selection import ParameterGrid\n",
    "\n",
    "from sklearn.linear_model import LinearRegression\n",
    "from sklearn.tree import DecisionTreeRegressor\n",
    "from sklearn.ensemble import GradientBoostingRegressor\n",
    "from sklearn.ensemble import RandomForestRegressor\n",
    "import xgboost as xgb\n",
    "\n",
    "from sklearn_pandas import DataFrameMapper\n",
    "from sklearn.impute import SimpleImputer\n",
    "from sklearn.preprocessing import StandardScaler\n",
    "from sklearn.preprocessing import OneHotEncoder\n",
    "\n",
    "from sklearn.pipeline import make_pipeline, Pipeline\n",
    "\n",
    "from sklearn.metrics import mean_squared_error\n",
    "from sklearn.metrics import mean_absolute_percentage_error"
   ]
  },
  {
   "cell_type": "code",
   "execution_count": 6,
   "metadata": {},
   "outputs": [],
   "source": [
    "rent_df_cleaned = pd.read_csv('cleaned_dataset.csv')"
   ]
  },
  {
   "cell_type": "code",
   "execution_count": 7,
   "metadata": {},
   "outputs": [
    {
     "data": {
      "text/html": [
       "<div>\n",
       "<style scoped>\n",
       "    .dataframe tbody tr th:only-of-type {\n",
       "        vertical-align: middle;\n",
       "    }\n",
       "\n",
       "    .dataframe tbody tr th {\n",
       "        vertical-align: top;\n",
       "    }\n",
       "\n",
       "    .dataframe thead th {\n",
       "        text-align: right;\n",
       "    }\n",
       "</style>\n",
       "<table border=\"1\" class=\"dataframe\">\n",
       "  <thead>\n",
       "    <tr style=\"text-align: right;\">\n",
       "      <th></th>\n",
       "      <th>first_day_exposition</th>\n",
       "      <th>last_day_exposition</th>\n",
       "      <th>last_price</th>\n",
       "      <th>floor</th>\n",
       "      <th>open_plan</th>\n",
       "      <th>rooms</th>\n",
       "      <th>studio</th>\n",
       "      <th>area</th>\n",
       "      <th>agent_fee</th>\n",
       "      <th>renovation</th>\n",
       "      <th>last_price_log</th>\n",
       "    </tr>\n",
       "  </thead>\n",
       "  <tbody>\n",
       "    <tr>\n",
       "      <th>0</th>\n",
       "      <td>2015-01-24T00:00:00+03:00</td>\n",
       "      <td>2016-01-19T00:00:00+03:00</td>\n",
       "      <td>20000.0</td>\n",
       "      <td>7</td>\n",
       "      <td>0</td>\n",
       "      <td>1</td>\n",
       "      <td>0</td>\n",
       "      <td>28.0</td>\n",
       "      <td>100.0</td>\n",
       "      <td>3.0</td>\n",
       "      <td>9.903488</td>\n",
       "    </tr>\n",
       "    <tr>\n",
       "      <th>1</th>\n",
       "      <td>2015-11-17T00:00:00+03:00</td>\n",
       "      <td>2016-03-04T00:00:00+03:00</td>\n",
       "      <td>24000.0</td>\n",
       "      <td>4</td>\n",
       "      <td>0</td>\n",
       "      <td>2</td>\n",
       "      <td>0</td>\n",
       "      <td>59.0</td>\n",
       "      <td>100.0</td>\n",
       "      <td>3.0</td>\n",
       "      <td>10.085809</td>\n",
       "    </tr>\n",
       "    <tr>\n",
       "      <th>2</th>\n",
       "      <td>2015-11-17T00:00:00+03:00</td>\n",
       "      <td>2016-04-24T00:00:00+03:00</td>\n",
       "      <td>18000.0</td>\n",
       "      <td>6</td>\n",
       "      <td>0</td>\n",
       "      <td>1</td>\n",
       "      <td>0</td>\n",
       "      <td>36.0</td>\n",
       "      <td>100.0</td>\n",
       "      <td>3.0</td>\n",
       "      <td>9.798127</td>\n",
       "    </tr>\n",
       "    <tr>\n",
       "      <th>3</th>\n",
       "      <td>2016-02-04T00:00:00+03:00</td>\n",
       "      <td>2016-02-28T00:00:00+03:00</td>\n",
       "      <td>18000.0</td>\n",
       "      <td>8</td>\n",
       "      <td>0</td>\n",
       "      <td>1</td>\n",
       "      <td>0</td>\n",
       "      <td>39.0</td>\n",
       "      <td>90.0</td>\n",
       "      <td>0.0</td>\n",
       "      <td>9.798127</td>\n",
       "    </tr>\n",
       "    <tr>\n",
       "      <th>4</th>\n",
       "      <td>2016-02-28T00:00:00+03:00</td>\n",
       "      <td>2016-04-02T00:00:00+03:00</td>\n",
       "      <td>19000.0</td>\n",
       "      <td>3</td>\n",
       "      <td>0</td>\n",
       "      <td>1</td>\n",
       "      <td>0</td>\n",
       "      <td>36.0</td>\n",
       "      <td>50.0</td>\n",
       "      <td>11.0</td>\n",
       "      <td>9.852194</td>\n",
       "    </tr>\n",
       "  </tbody>\n",
       "</table>\n",
       "</div>"
      ],
      "text/plain": [
       "        first_day_exposition        last_day_exposition  last_price  floor  open_plan  rooms  studio  area  agent_fee  renovation  last_price_log\n",
       "0  2015-01-24T00:00:00+03:00  2016-01-19T00:00:00+03:00     20000.0      7          0      1       0  28.0      100.0         3.0        9.903488\n",
       "1  2015-11-17T00:00:00+03:00  2016-03-04T00:00:00+03:00     24000.0      4          0      2       0  59.0      100.0         3.0       10.085809\n",
       "2  2015-11-17T00:00:00+03:00  2016-04-24T00:00:00+03:00     18000.0      6          0      1       0  36.0      100.0         3.0        9.798127\n",
       "3  2016-02-04T00:00:00+03:00  2016-02-28T00:00:00+03:00     18000.0      8          0      1       0  39.0       90.0         0.0        9.798127\n",
       "4  2016-02-28T00:00:00+03:00  2016-04-02T00:00:00+03:00     19000.0      3          0      1       0  36.0       50.0        11.0        9.852194"
      ]
     },
     "execution_count": 7,
     "metadata": {},
     "output_type": "execute_result"
    }
   ],
   "source": [
    "rent_df_cleaned.head()"
   ]
  },
  {
   "cell_type": "code",
   "execution_count": 8,
   "metadata": {},
   "outputs": [
    {
     "name": "stdout",
     "output_type": "stream",
     "text": [
      "<class 'pandas.core.frame.DataFrame'>\n",
      "RangeIndex: 155391 entries, 0 to 155390\n",
      "Data columns (total 11 columns):\n",
      " #   Column                Non-Null Count   Dtype  \n",
      "---  ------                --------------   -----  \n",
      " 0   first_day_exposition  155391 non-null  object \n",
      " 1   last_day_exposition   155391 non-null  object \n",
      " 2   last_price            155391 non-null  float64\n",
      " 3   floor                 155391 non-null  int64  \n",
      " 4   open_plan             155391 non-null  int64  \n",
      " 5   rooms                 155391 non-null  int64  \n",
      " 6   studio                155391 non-null  int64  \n",
      " 7   area                  155391 non-null  float64\n",
      " 8   agent_fee             122840 non-null  float64\n",
      " 9   renovation            155391 non-null  float64\n",
      " 10  last_price_log        155391 non-null  float64\n",
      "dtypes: float64(5), int64(4), object(2)\n",
      "memory usage: 13.0+ MB\n"
     ]
    }
   ],
   "source": [
    "rent_df_cleaned.info()"
   ]
  },
  {
   "cell_type": "markdown",
   "metadata": {},
   "source": [
    "### Self-control stops\n",
    "1. Compete with other teams to create the best solution. You can play with factors and algorithm parameters to come up with it."
   ]
  },
  {
   "cell_type": "code",
   "execution_count": 9,
   "metadata": {},
   "outputs": [],
   "source": [
    "rent_df_cleaned['f_day_exposition'] = pd.to_datetime(rent_df_cleaned.first_day_exposition)"
   ]
  },
  {
   "cell_type": "code",
   "execution_count": 10,
   "metadata": {},
   "outputs": [],
   "source": [
    "rent_df_cleaned['l_day_exposition'] = pd.to_datetime(rent_df_cleaned.last_day_exposition)"
   ]
  },
  {
   "cell_type": "code",
   "execution_count": 11,
   "metadata": {},
   "outputs": [],
   "source": [
    "rent_df_cleaned['offer_time'] = (rent_df_cleaned['l_day_exposition'] - rent_df_cleaned['f_day_exposition']).dt.days"
   ]
  },
  {
   "cell_type": "code",
   "execution_count": 12,
   "metadata": {},
   "outputs": [],
   "source": [
    "rent_df_cleaned.drop(columns=['last_price_log'], inplace = True)\n",
    "rent_df_cleaned.drop(columns=['f_day_exposition'], inplace = True)\n",
    "rent_df_cleaned.drop(columns=['l_day_exposition'], inplace = True)"
   ]
  },
  {
   "cell_type": "code",
   "execution_count": 13,
   "metadata": {},
   "outputs": [
    {
     "data": {
      "text/html": [
       "<div>\n",
       "<style scoped>\n",
       "    .dataframe tbody tr th:only-of-type {\n",
       "        vertical-align: middle;\n",
       "    }\n",
       "\n",
       "    .dataframe tbody tr th {\n",
       "        vertical-align: top;\n",
       "    }\n",
       "\n",
       "    .dataframe thead th {\n",
       "        text-align: right;\n",
       "    }\n",
       "</style>\n",
       "<table border=\"1\" class=\"dataframe\">\n",
       "  <thead>\n",
       "    <tr style=\"text-align: right;\">\n",
       "      <th></th>\n",
       "      <th>first_day_exposition</th>\n",
       "      <th>last_day_exposition</th>\n",
       "      <th>last_price</th>\n",
       "      <th>floor</th>\n",
       "      <th>open_plan</th>\n",
       "      <th>rooms</th>\n",
       "      <th>studio</th>\n",
       "      <th>area</th>\n",
       "      <th>agent_fee</th>\n",
       "      <th>renovation</th>\n",
       "      <th>offer_time</th>\n",
       "    </tr>\n",
       "  </thead>\n",
       "  <tbody>\n",
       "    <tr>\n",
       "      <th>0</th>\n",
       "      <td>2015-01-24T00:00:00+03:00</td>\n",
       "      <td>2016-01-19T00:00:00+03:00</td>\n",
       "      <td>20000.0</td>\n",
       "      <td>7</td>\n",
       "      <td>0</td>\n",
       "      <td>1</td>\n",
       "      <td>0</td>\n",
       "      <td>28.0</td>\n",
       "      <td>100.0</td>\n",
       "      <td>3.0</td>\n",
       "      <td>360</td>\n",
       "    </tr>\n",
       "    <tr>\n",
       "      <th>1</th>\n",
       "      <td>2015-11-17T00:00:00+03:00</td>\n",
       "      <td>2016-03-04T00:00:00+03:00</td>\n",
       "      <td>24000.0</td>\n",
       "      <td>4</td>\n",
       "      <td>0</td>\n",
       "      <td>2</td>\n",
       "      <td>0</td>\n",
       "      <td>59.0</td>\n",
       "      <td>100.0</td>\n",
       "      <td>3.0</td>\n",
       "      <td>108</td>\n",
       "    </tr>\n",
       "    <tr>\n",
       "      <th>2</th>\n",
       "      <td>2015-11-17T00:00:00+03:00</td>\n",
       "      <td>2016-04-24T00:00:00+03:00</td>\n",
       "      <td>18000.0</td>\n",
       "      <td>6</td>\n",
       "      <td>0</td>\n",
       "      <td>1</td>\n",
       "      <td>0</td>\n",
       "      <td>36.0</td>\n",
       "      <td>100.0</td>\n",
       "      <td>3.0</td>\n",
       "      <td>159</td>\n",
       "    </tr>\n",
       "    <tr>\n",
       "      <th>3</th>\n",
       "      <td>2016-02-04T00:00:00+03:00</td>\n",
       "      <td>2016-02-28T00:00:00+03:00</td>\n",
       "      <td>18000.0</td>\n",
       "      <td>8</td>\n",
       "      <td>0</td>\n",
       "      <td>1</td>\n",
       "      <td>0</td>\n",
       "      <td>39.0</td>\n",
       "      <td>90.0</td>\n",
       "      <td>0.0</td>\n",
       "      <td>24</td>\n",
       "    </tr>\n",
       "    <tr>\n",
       "      <th>4</th>\n",
       "      <td>2016-02-28T00:00:00+03:00</td>\n",
       "      <td>2016-04-02T00:00:00+03:00</td>\n",
       "      <td>19000.0</td>\n",
       "      <td>3</td>\n",
       "      <td>0</td>\n",
       "      <td>1</td>\n",
       "      <td>0</td>\n",
       "      <td>36.0</td>\n",
       "      <td>50.0</td>\n",
       "      <td>11.0</td>\n",
       "      <td>34</td>\n",
       "    </tr>\n",
       "  </tbody>\n",
       "</table>\n",
       "</div>"
      ],
      "text/plain": [
       "        first_day_exposition        last_day_exposition  last_price  floor  open_plan  rooms  studio  area  agent_fee  renovation  offer_time\n",
       "0  2015-01-24T00:00:00+03:00  2016-01-19T00:00:00+03:00     20000.0      7          0      1       0  28.0      100.0         3.0         360\n",
       "1  2015-11-17T00:00:00+03:00  2016-03-04T00:00:00+03:00     24000.0      4          0      2       0  59.0      100.0         3.0         108\n",
       "2  2015-11-17T00:00:00+03:00  2016-04-24T00:00:00+03:00     18000.0      6          0      1       0  36.0      100.0         3.0         159\n",
       "3  2016-02-04T00:00:00+03:00  2016-02-28T00:00:00+03:00     18000.0      8          0      1       0  39.0       90.0         0.0          24\n",
       "4  2016-02-28T00:00:00+03:00  2016-04-02T00:00:00+03:00     19000.0      3          0      1       0  36.0       50.0        11.0          34"
      ]
     },
     "execution_count": 13,
     "metadata": {},
     "output_type": "execute_result"
    }
   ],
   "source": [
    "rent_df_cleaned.head()"
   ]
  },
  {
   "cell_type": "code",
   "execution_count": 14,
   "metadata": {},
   "outputs": [
    {
     "name": "stdout",
     "output_type": "stream",
     "text": [
      "<class 'pandas.core.frame.DataFrame'>\n",
      "RangeIndex: 155391 entries, 0 to 155390\n",
      "Data columns (total 11 columns):\n",
      " #   Column                Non-Null Count   Dtype  \n",
      "---  ------                --------------   -----  \n",
      " 0   first_day_exposition  155391 non-null  object \n",
      " 1   last_day_exposition   155391 non-null  object \n",
      " 2   last_price            155391 non-null  float64\n",
      " 3   floor                 155391 non-null  int64  \n",
      " 4   open_plan             155391 non-null  int64  \n",
      " 5   rooms                 155391 non-null  int64  \n",
      " 6   studio                155391 non-null  int64  \n",
      " 7   area                  155391 non-null  float64\n",
      " 8   agent_fee             122840 non-null  float64\n",
      " 9   renovation            155391 non-null  float64\n",
      " 10  offer_time            155391 non-null  int64  \n",
      "dtypes: float64(4), int64(5), object(2)\n",
      "memory usage: 13.0+ MB\n"
     ]
    }
   ],
   "source": [
    "rent_df_cleaned.info()"
   ]
  },
  {
   "cell_type": "code",
   "execution_count": 12,
   "metadata": {},
   "outputs": [],
   "source": [
    "#split dataset to train and test samples\n",
    "train_df = rent_df_cleaned[(rent_df_cleaned.first_day_exposition >= '2018-01-01') \n",
    "                          & (rent_df_cleaned.first_day_exposition < '2018-04-01')]"
   ]
  },
  {
   "cell_type": "code",
   "execution_count": 13,
   "metadata": {},
   "outputs": [
    {
     "data": {
      "text/plain": [
       "16974"
      ]
     },
     "execution_count": 13,
     "metadata": {},
     "output_type": "execute_result"
    }
   ],
   "source": [
    "len(train_df)"
   ]
  },
  {
   "cell_type": "code",
   "execution_count": 14,
   "metadata": {},
   "outputs": [],
   "source": [
    "test_df = rent_df_cleaned[(rent_df_cleaned.first_day_exposition >= '2018-04-01') \n",
    "                          & (rent_df_cleaned.first_day_exposition < '2018-06-01')]"
   ]
  },
  {
   "cell_type": "code",
   "execution_count": 15,
   "metadata": {},
   "outputs": [
    {
     "data": {
      "text/plain": [
       "14974"
      ]
     },
     "execution_count": 15,
     "metadata": {},
     "output_type": "execute_result"
    }
   ],
   "source": [
    "len(test_df)"
   ]
  },
  {
   "cell_type": "code",
   "execution_count": 16,
   "metadata": {},
   "outputs": [],
   "source": [
    "holdout_df = rent_df_cleaned[rent_df_cleaned.first_day_exposition >= '2018-06-01']"
   ]
  },
  {
   "cell_type": "code",
   "execution_count": 17,
   "metadata": {},
   "outputs": [
    {
     "data": {
      "text/plain": [
       "21112"
      ]
     },
     "execution_count": 17,
     "metadata": {},
     "output_type": "execute_result"
    }
   ],
   "source": [
    "len(holdout_df)"
   ]
  },
  {
   "cell_type": "code",
   "execution_count": 18,
   "metadata": {},
   "outputs": [
    {
     "data": {
      "text/html": [
       "<div>\n",
       "<style scoped>\n",
       "    .dataframe tbody tr th:only-of-type {\n",
       "        vertical-align: middle;\n",
       "    }\n",
       "\n",
       "    .dataframe tbody tr th {\n",
       "        vertical-align: top;\n",
       "    }\n",
       "\n",
       "    .dataframe thead th {\n",
       "        text-align: right;\n",
       "    }\n",
       "</style>\n",
       "<table border=\"1\" class=\"dataframe\">\n",
       "  <thead>\n",
       "    <tr style=\"text-align: right;\">\n",
       "      <th></th>\n",
       "      <th>first_day_exposition</th>\n",
       "      <th>last_day_exposition</th>\n",
       "      <th>last_price</th>\n",
       "      <th>floor</th>\n",
       "      <th>open_plan</th>\n",
       "      <th>rooms</th>\n",
       "      <th>studio</th>\n",
       "      <th>area</th>\n",
       "      <th>agent_fee</th>\n",
       "      <th>renovation</th>\n",
       "      <th>offer_time</th>\n",
       "    </tr>\n",
       "  </thead>\n",
       "  <tbody>\n",
       "    <tr>\n",
       "      <th>8</th>\n",
       "      <td>2018-01-05T00:00:00+03:00</td>\n",
       "      <td>2018-01-16T00:00:00+03:00</td>\n",
       "      <td>26000.0</td>\n",
       "      <td>12</td>\n",
       "      <td>0</td>\n",
       "      <td>1</td>\n",
       "      <td>0</td>\n",
       "      <td>36.0</td>\n",
       "      <td>NaN</td>\n",
       "      <td>0.0</td>\n",
       "      <td>11</td>\n",
       "    </tr>\n",
       "    <tr>\n",
       "      <th>24</th>\n",
       "      <td>2018-01-20T00:00:00+03:00</td>\n",
       "      <td>2018-02-28T00:00:00+03:00</td>\n",
       "      <td>17500.0</td>\n",
       "      <td>9</td>\n",
       "      <td>0</td>\n",
       "      <td>1</td>\n",
       "      <td>0</td>\n",
       "      <td>32.0</td>\n",
       "      <td>50.0</td>\n",
       "      <td>1.0</td>\n",
       "      <td>39</td>\n",
       "    </tr>\n",
       "    <tr>\n",
       "      <th>25</th>\n",
       "      <td>2018-02-09T00:00:00+03:00</td>\n",
       "      <td>2018-03-03T00:00:00+03:00</td>\n",
       "      <td>16000.0</td>\n",
       "      <td>4</td>\n",
       "      <td>0</td>\n",
       "      <td>1</td>\n",
       "      <td>0</td>\n",
       "      <td>38.0</td>\n",
       "      <td>90.0</td>\n",
       "      <td>0.0</td>\n",
       "      <td>22</td>\n",
       "    </tr>\n",
       "    <tr>\n",
       "      <th>26</th>\n",
       "      <td>2018-03-19T00:00:00+03:00</td>\n",
       "      <td>2018-04-18T00:00:00+03:00</td>\n",
       "      <td>22000.0</td>\n",
       "      <td>12</td>\n",
       "      <td>0</td>\n",
       "      <td>1</td>\n",
       "      <td>0</td>\n",
       "      <td>32.0</td>\n",
       "      <td>NaN</td>\n",
       "      <td>0.0</td>\n",
       "      <td>30</td>\n",
       "    </tr>\n",
       "    <tr>\n",
       "      <th>27</th>\n",
       "      <td>2018-03-26T00:00:00+03:00</td>\n",
       "      <td>2018-03-30T00:00:00+03:00</td>\n",
       "      <td>20000.0</td>\n",
       "      <td>5</td>\n",
       "      <td>0</td>\n",
       "      <td>1</td>\n",
       "      <td>0</td>\n",
       "      <td>32.0</td>\n",
       "      <td>50.0</td>\n",
       "      <td>0.0</td>\n",
       "      <td>4</td>\n",
       "    </tr>\n",
       "  </tbody>\n",
       "</table>\n",
       "</div>"
      ],
      "text/plain": [
       "         first_day_exposition        last_day_exposition  last_price  floor  open_plan  rooms  studio  area  agent_fee  renovation  offer_time\n",
       "8   2018-01-05T00:00:00+03:00  2018-01-16T00:00:00+03:00     26000.0     12          0      1       0  36.0        NaN         0.0          11\n",
       "24  2018-01-20T00:00:00+03:00  2018-02-28T00:00:00+03:00     17500.0      9          0      1       0  32.0       50.0         1.0          39\n",
       "25  2018-02-09T00:00:00+03:00  2018-03-03T00:00:00+03:00     16000.0      4          0      1       0  38.0       90.0         0.0          22\n",
       "26  2018-03-19T00:00:00+03:00  2018-04-18T00:00:00+03:00     22000.0     12          0      1       0  32.0        NaN         0.0          30\n",
       "27  2018-03-26T00:00:00+03:00  2018-03-30T00:00:00+03:00     20000.0      5          0      1       0  32.0       50.0         0.0           4"
      ]
     },
     "execution_count": 18,
     "metadata": {},
     "output_type": "execute_result"
    }
   ],
   "source": [
    "train_df.head()"
   ]
  },
  {
   "cell_type": "code",
   "execution_count": 19,
   "metadata": {},
   "outputs": [
    {
     "name": "stderr",
     "output_type": "stream",
     "text": [
      "/opt/conda/lib/python3.9/site-packages/pandas/core/frame.py:4906: SettingWithCopyWarning: \n",
      "A value is trying to be set on a copy of a slice from a DataFrame\n",
      "\n",
      "See the caveats in the documentation: https://pandas.pydata.org/pandas-docs/stable/user_guide/indexing.html#returning-a-view-versus-a-copy\n",
      "  return super().drop(\n"
     ]
    }
   ],
   "source": [
    "train_df.drop(columns=['first_day_exposition','last_day_exposition'], inplace=True)\n",
    "test_df.drop(columns=['first_day_exposition','last_day_exposition'], inplace=True)"
   ]
  },
  {
   "cell_type": "code",
   "execution_count": 20,
   "metadata": {},
   "outputs": [
    {
     "data": {
      "text/html": [
       "<div>\n",
       "<style scoped>\n",
       "    .dataframe tbody tr th:only-of-type {\n",
       "        vertical-align: middle;\n",
       "    }\n",
       "\n",
       "    .dataframe tbody tr th {\n",
       "        vertical-align: top;\n",
       "    }\n",
       "\n",
       "    .dataframe thead th {\n",
       "        text-align: right;\n",
       "    }\n",
       "</style>\n",
       "<table border=\"1\" class=\"dataframe\">\n",
       "  <thead>\n",
       "    <tr style=\"text-align: right;\">\n",
       "      <th></th>\n",
       "      <th>last_price</th>\n",
       "      <th>floor</th>\n",
       "      <th>open_plan</th>\n",
       "      <th>rooms</th>\n",
       "      <th>studio</th>\n",
       "      <th>area</th>\n",
       "      <th>agent_fee</th>\n",
       "      <th>renovation</th>\n",
       "      <th>offer_time</th>\n",
       "    </tr>\n",
       "  </thead>\n",
       "  <tbody>\n",
       "    <tr>\n",
       "      <th>8</th>\n",
       "      <td>26000.0</td>\n",
       "      <td>12</td>\n",
       "      <td>0</td>\n",
       "      <td>1</td>\n",
       "      <td>0</td>\n",
       "      <td>36.0</td>\n",
       "      <td>NaN</td>\n",
       "      <td>0.0</td>\n",
       "      <td>11</td>\n",
       "    </tr>\n",
       "    <tr>\n",
       "      <th>24</th>\n",
       "      <td>17500.0</td>\n",
       "      <td>9</td>\n",
       "      <td>0</td>\n",
       "      <td>1</td>\n",
       "      <td>0</td>\n",
       "      <td>32.0</td>\n",
       "      <td>50.0</td>\n",
       "      <td>1.0</td>\n",
       "      <td>39</td>\n",
       "    </tr>\n",
       "    <tr>\n",
       "      <th>25</th>\n",
       "      <td>16000.0</td>\n",
       "      <td>4</td>\n",
       "      <td>0</td>\n",
       "      <td>1</td>\n",
       "      <td>0</td>\n",
       "      <td>38.0</td>\n",
       "      <td>90.0</td>\n",
       "      <td>0.0</td>\n",
       "      <td>22</td>\n",
       "    </tr>\n",
       "    <tr>\n",
       "      <th>26</th>\n",
       "      <td>22000.0</td>\n",
       "      <td>12</td>\n",
       "      <td>0</td>\n",
       "      <td>1</td>\n",
       "      <td>0</td>\n",
       "      <td>32.0</td>\n",
       "      <td>NaN</td>\n",
       "      <td>0.0</td>\n",
       "      <td>30</td>\n",
       "    </tr>\n",
       "    <tr>\n",
       "      <th>27</th>\n",
       "      <td>20000.0</td>\n",
       "      <td>5</td>\n",
       "      <td>0</td>\n",
       "      <td>1</td>\n",
       "      <td>0</td>\n",
       "      <td>32.0</td>\n",
       "      <td>50.0</td>\n",
       "      <td>0.0</td>\n",
       "      <td>4</td>\n",
       "    </tr>\n",
       "  </tbody>\n",
       "</table>\n",
       "</div>"
      ],
      "text/plain": [
       "    last_price  floor  open_plan  rooms  studio  area  agent_fee  renovation  offer_time\n",
       "8      26000.0     12          0      1       0  36.0        NaN         0.0          11\n",
       "24     17500.0      9          0      1       0  32.0       50.0         1.0          39\n",
       "25     16000.0      4          0      1       0  38.0       90.0         0.0          22\n",
       "26     22000.0     12          0      1       0  32.0        NaN         0.0          30\n",
       "27     20000.0      5          0      1       0  32.0       50.0         0.0           4"
      ]
     },
     "execution_count": 20,
     "metadata": {},
     "output_type": "execute_result"
    }
   ],
   "source": [
    "train_df.head()"
   ]
  },
  {
   "cell_type": "code",
   "execution_count": 21,
   "metadata": {},
   "outputs": [
    {
     "name": "stdout",
     "output_type": "stream",
     "text": [
      "        floor  open_plan  rooms  studio  area  agent_fee  renovation  offer_time\n",
      "8          12          0      1       0  36.0        NaN         0.0          11\n",
      "24          9          0      1       0  32.0       50.0         1.0          39\n",
      "25          4          0      1       0  38.0       90.0         0.0          22\n",
      "26         12          0      1       0  32.0        NaN         0.0          30\n",
      "27          5          0      1       0  32.0       50.0         0.0           4\n",
      "...       ...        ...    ...     ...   ...        ...         ...         ...\n",
      "154884      2          0      1       0  46.0        0.0        11.0         143\n",
      "154921      6          0      2       0  50.0       90.0        11.0         176\n",
      "155028      4          0      3       0  66.0        0.0        11.0         165\n",
      "155079      4          0      2       0  52.0      100.0         0.0         132\n",
      "155271      1          0      2       0  46.0       50.0         0.0         193\n",
      "\n",
      "[16974 rows x 8 columns]\n"
     ]
    }
   ],
   "source": [
    "X_train = train_df.drop('last_price', axis=1)\n",
    "y_train = train_df['last_price']\n",
    "X_valid = test_df.drop('last_price', axis=1)\n",
    "y_valid = test_df['last_price']\n",
    "y_train= y_train.values.reshape(-1,1)\n",
    "y_valid= y_valid.values.reshape(-1,1)\n",
    "print(X_train)"
   ]
  },
  {
   "cell_type": "code",
   "execution_count": 22,
   "metadata": {},
   "outputs": [],
   "source": [
    "numeric_features = ['area', 'offer_time', 'agent_fee' ] \n",
    "nominal_features = ['renovation','open_plan', 'rooms', 'floor', 'studio']"
   ]
  },
  {
   "cell_type": "code",
   "execution_count": 23,
   "metadata": {},
   "outputs": [
    {
     "data": {
      "text/plain": [
       "Pipeline(steps=[('preprocessing',\n",
       "                 DataFrameMapper(df_out=True, drop_cols=[],\n",
       "                                 features=[(['area'], SimpleImputer()),\n",
       "                                           (['offer_time'], SimpleImputer()),\n",
       "                                           (['agent_fee'], SimpleImputer()),\n",
       "                                           (['renovation'],\n",
       "                                            OneHotEncoder(handle_unknown='ignore')),\n",
       "                                           (['open_plan'],\n",
       "                                            OneHotEncoder(handle_unknown='ignore')),\n",
       "                                           (['rooms'],\n",
       "                                            OneHotEncoder(handle_unknown='ignore')),\n",
       "                                           (['floor'],\n",
       "                                            OneHotEncoder(handle_unknown='ignore')),\n",
       "                                           (['studio'],\n",
       "                                            OneHotEncoder(handle_unknown='ignore'))])),\n",
       "                ('scaler', StandardScaler()),\n",
       "                ('LinearRegression', LinearRegression())])"
      ]
     },
     "execution_count": 23,
     "metadata": {},
     "output_type": "execute_result"
    }
   ],
   "source": [
    "mapper = DataFrameMapper([([feature], SimpleImputer()) for feature in numeric_features] +\\\n",
    "                         [([feature], OneHotEncoder(handle_unknown='ignore')) for feature in nominal_features],\n",
    "                             df_out=True)\n",
    "\n",
    "pipeline = Pipeline(steps = [('preprocessing', mapper), \n",
    "                             ('scaler', StandardScaler()),\n",
    "                             ('LinearRegression', LinearRegression())])\n",
    "                             \n",
    "pipeline"
   ]
  },
  {
   "cell_type": "code",
   "execution_count": 24,
   "metadata": {},
   "outputs": [
    {
     "data": {
      "text/html": [
       "<div>\n",
       "<style scoped>\n",
       "    .dataframe tbody tr th:only-of-type {\n",
       "        vertical-align: middle;\n",
       "    }\n",
       "\n",
       "    .dataframe tbody tr th {\n",
       "        vertical-align: top;\n",
       "    }\n",
       "\n",
       "    .dataframe thead th {\n",
       "        text-align: right;\n",
       "    }\n",
       "</style>\n",
       "<table border=\"1\" class=\"dataframe\">\n",
       "  <thead>\n",
       "    <tr style=\"text-align: right;\">\n",
       "      <th></th>\n",
       "      <th>area</th>\n",
       "      <th>offer_time</th>\n",
       "      <th>agent_fee</th>\n",
       "      <th>renovation_x0_0.0</th>\n",
       "      <th>renovation_x0_1.0</th>\n",
       "      <th>renovation_x0_2.0</th>\n",
       "      <th>renovation_x0_3.0</th>\n",
       "      <th>renovation_x0_4.0</th>\n",
       "      <th>renovation_x0_5.0</th>\n",
       "      <th>renovation_x0_6.0</th>\n",
       "      <th>renovation_x0_7.0</th>\n",
       "      <th>renovation_x0_8.0</th>\n",
       "      <th>renovation_x0_10.0</th>\n",
       "      <th>renovation_x0_11.0</th>\n",
       "      <th>open_plan_x0_0</th>\n",
       "      <th>open_plan_x0_1</th>\n",
       "      <th>rooms_x0_0</th>\n",
       "      <th>rooms_x0_1</th>\n",
       "      <th>rooms_x0_2</th>\n",
       "      <th>rooms_x0_3</th>\n",
       "      <th>rooms_x0_4</th>\n",
       "      <th>rooms_x0_5</th>\n",
       "      <th>floor_x0_1</th>\n",
       "      <th>floor_x0_2</th>\n",
       "      <th>floor_x0_3</th>\n",
       "      <th>floor_x0_4</th>\n",
       "      <th>floor_x0_5</th>\n",
       "      <th>floor_x0_6</th>\n",
       "      <th>floor_x0_7</th>\n",
       "      <th>floor_x0_8</th>\n",
       "      <th>floor_x0_9</th>\n",
       "      <th>floor_x0_10</th>\n",
       "      <th>floor_x0_11</th>\n",
       "      <th>floor_x0_12</th>\n",
       "      <th>floor_x0_13</th>\n",
       "      <th>floor_x0_14</th>\n",
       "      <th>floor_x0_15</th>\n",
       "      <th>floor_x0_16</th>\n",
       "      <th>floor_x0_17</th>\n",
       "      <th>floor_x0_18</th>\n",
       "      <th>floor_x0_19</th>\n",
       "      <th>floor_x0_20</th>\n",
       "      <th>floor_x0_21</th>\n",
       "      <th>floor_x0_22</th>\n",
       "      <th>floor_x0_23</th>\n",
       "      <th>floor_x0_24</th>\n",
       "      <th>floor_x0_25</th>\n",
       "      <th>floor_x0_26</th>\n",
       "      <th>floor_x0_27</th>\n",
       "      <th>floor_x0_28</th>\n",
       "      <th>floor_x0_29</th>\n",
       "      <th>floor_x0_30</th>\n",
       "      <th>floor_x0_32</th>\n",
       "      <th>floor_x0_33</th>\n",
       "      <th>floor_x0_34</th>\n",
       "      <th>floor_x0_35</th>\n",
       "      <th>floor_x0_36</th>\n",
       "      <th>studio_x0_0</th>\n",
       "      <th>studio_x0_1</th>\n",
       "    </tr>\n",
       "  </thead>\n",
       "  <tbody>\n",
       "    <tr>\n",
       "      <th>0</th>\n",
       "      <td>28.0</td>\n",
       "      <td>360.0</td>\n",
       "      <td>100.0</td>\n",
       "      <td>0.0</td>\n",
       "      <td>0.0</td>\n",
       "      <td>0.0</td>\n",
       "      <td>1.0</td>\n",
       "      <td>0.0</td>\n",
       "      <td>0.0</td>\n",
       "      <td>0.0</td>\n",
       "      <td>0.0</td>\n",
       "      <td>0.0</td>\n",
       "      <td>0.0</td>\n",
       "      <td>0.0</td>\n",
       "      <td>1.0</td>\n",
       "      <td>0.0</td>\n",
       "      <td>0.0</td>\n",
       "      <td>1.0</td>\n",
       "      <td>0.0</td>\n",
       "      <td>0.0</td>\n",
       "      <td>0.0</td>\n",
       "      <td>0.0</td>\n",
       "      <td>0.0</td>\n",
       "      <td>0.0</td>\n",
       "      <td>0.0</td>\n",
       "      <td>0.0</td>\n",
       "      <td>0.0</td>\n",
       "      <td>0.0</td>\n",
       "      <td>1.0</td>\n",
       "      <td>0.0</td>\n",
       "      <td>0.0</td>\n",
       "      <td>0.0</td>\n",
       "      <td>0.0</td>\n",
       "      <td>0.0</td>\n",
       "      <td>0.0</td>\n",
       "      <td>0.0</td>\n",
       "      <td>0.0</td>\n",
       "      <td>0.0</td>\n",
       "      <td>0.0</td>\n",
       "      <td>0.0</td>\n",
       "      <td>0.0</td>\n",
       "      <td>0.0</td>\n",
       "      <td>0.0</td>\n",
       "      <td>0.0</td>\n",
       "      <td>0.0</td>\n",
       "      <td>0.0</td>\n",
       "      <td>0.0</td>\n",
       "      <td>0.0</td>\n",
       "      <td>0.0</td>\n",
       "      <td>0.0</td>\n",
       "      <td>0.0</td>\n",
       "      <td>0.0</td>\n",
       "      <td>0.0</td>\n",
       "      <td>0.0</td>\n",
       "      <td>0.0</td>\n",
       "      <td>0.0</td>\n",
       "      <td>0.0</td>\n",
       "      <td>1.0</td>\n",
       "      <td>0.0</td>\n",
       "    </tr>\n",
       "    <tr>\n",
       "      <th>1</th>\n",
       "      <td>59.0</td>\n",
       "      <td>108.0</td>\n",
       "      <td>100.0</td>\n",
       "      <td>0.0</td>\n",
       "      <td>0.0</td>\n",
       "      <td>0.0</td>\n",
       "      <td>1.0</td>\n",
       "      <td>0.0</td>\n",
       "      <td>0.0</td>\n",
       "      <td>0.0</td>\n",
       "      <td>0.0</td>\n",
       "      <td>0.0</td>\n",
       "      <td>0.0</td>\n",
       "      <td>0.0</td>\n",
       "      <td>1.0</td>\n",
       "      <td>0.0</td>\n",
       "      <td>0.0</td>\n",
       "      <td>0.0</td>\n",
       "      <td>1.0</td>\n",
       "      <td>0.0</td>\n",
       "      <td>0.0</td>\n",
       "      <td>0.0</td>\n",
       "      <td>0.0</td>\n",
       "      <td>0.0</td>\n",
       "      <td>0.0</td>\n",
       "      <td>1.0</td>\n",
       "      <td>0.0</td>\n",
       "      <td>0.0</td>\n",
       "      <td>0.0</td>\n",
       "      <td>0.0</td>\n",
       "      <td>0.0</td>\n",
       "      <td>0.0</td>\n",
       "      <td>0.0</td>\n",
       "      <td>0.0</td>\n",
       "      <td>0.0</td>\n",
       "      <td>0.0</td>\n",
       "      <td>0.0</td>\n",
       "      <td>0.0</td>\n",
       "      <td>0.0</td>\n",
       "      <td>0.0</td>\n",
       "      <td>0.0</td>\n",
       "      <td>0.0</td>\n",
       "      <td>0.0</td>\n",
       "      <td>0.0</td>\n",
       "      <td>0.0</td>\n",
       "      <td>0.0</td>\n",
       "      <td>0.0</td>\n",
       "      <td>0.0</td>\n",
       "      <td>0.0</td>\n",
       "      <td>0.0</td>\n",
       "      <td>0.0</td>\n",
       "      <td>0.0</td>\n",
       "      <td>0.0</td>\n",
       "      <td>0.0</td>\n",
       "      <td>0.0</td>\n",
       "      <td>0.0</td>\n",
       "      <td>0.0</td>\n",
       "      <td>1.0</td>\n",
       "      <td>0.0</td>\n",
       "    </tr>\n",
       "    <tr>\n",
       "      <th>2</th>\n",
       "      <td>36.0</td>\n",
       "      <td>159.0</td>\n",
       "      <td>100.0</td>\n",
       "      <td>0.0</td>\n",
       "      <td>0.0</td>\n",
       "      <td>0.0</td>\n",
       "      <td>1.0</td>\n",
       "      <td>0.0</td>\n",
       "      <td>0.0</td>\n",
       "      <td>0.0</td>\n",
       "      <td>0.0</td>\n",
       "      <td>0.0</td>\n",
       "      <td>0.0</td>\n",
       "      <td>0.0</td>\n",
       "      <td>1.0</td>\n",
       "      <td>0.0</td>\n",
       "      <td>0.0</td>\n",
       "      <td>1.0</td>\n",
       "      <td>0.0</td>\n",
       "      <td>0.0</td>\n",
       "      <td>0.0</td>\n",
       "      <td>0.0</td>\n",
       "      <td>0.0</td>\n",
       "      <td>0.0</td>\n",
       "      <td>0.0</td>\n",
       "      <td>0.0</td>\n",
       "      <td>0.0</td>\n",
       "      <td>1.0</td>\n",
       "      <td>0.0</td>\n",
       "      <td>0.0</td>\n",
       "      <td>0.0</td>\n",
       "      <td>0.0</td>\n",
       "      <td>0.0</td>\n",
       "      <td>0.0</td>\n",
       "      <td>0.0</td>\n",
       "      <td>0.0</td>\n",
       "      <td>0.0</td>\n",
       "      <td>0.0</td>\n",
       "      <td>0.0</td>\n",
       "      <td>0.0</td>\n",
       "      <td>0.0</td>\n",
       "      <td>0.0</td>\n",
       "      <td>0.0</td>\n",
       "      <td>0.0</td>\n",
       "      <td>0.0</td>\n",
       "      <td>0.0</td>\n",
       "      <td>0.0</td>\n",
       "      <td>0.0</td>\n",
       "      <td>0.0</td>\n",
       "      <td>0.0</td>\n",
       "      <td>0.0</td>\n",
       "      <td>0.0</td>\n",
       "      <td>0.0</td>\n",
       "      <td>0.0</td>\n",
       "      <td>0.0</td>\n",
       "      <td>0.0</td>\n",
       "      <td>0.0</td>\n",
       "      <td>1.0</td>\n",
       "      <td>0.0</td>\n",
       "    </tr>\n",
       "    <tr>\n",
       "      <th>3</th>\n",
       "      <td>39.0</td>\n",
       "      <td>24.0</td>\n",
       "      <td>90.0</td>\n",
       "      <td>1.0</td>\n",
       "      <td>0.0</td>\n",
       "      <td>0.0</td>\n",
       "      <td>0.0</td>\n",
       "      <td>0.0</td>\n",
       "      <td>0.0</td>\n",
       "      <td>0.0</td>\n",
       "      <td>0.0</td>\n",
       "      <td>0.0</td>\n",
       "      <td>0.0</td>\n",
       "      <td>0.0</td>\n",
       "      <td>1.0</td>\n",
       "      <td>0.0</td>\n",
       "      <td>0.0</td>\n",
       "      <td>1.0</td>\n",
       "      <td>0.0</td>\n",
       "      <td>0.0</td>\n",
       "      <td>0.0</td>\n",
       "      <td>0.0</td>\n",
       "      <td>0.0</td>\n",
       "      <td>0.0</td>\n",
       "      <td>0.0</td>\n",
       "      <td>0.0</td>\n",
       "      <td>0.0</td>\n",
       "      <td>0.0</td>\n",
       "      <td>0.0</td>\n",
       "      <td>1.0</td>\n",
       "      <td>0.0</td>\n",
       "      <td>0.0</td>\n",
       "      <td>0.0</td>\n",
       "      <td>0.0</td>\n",
       "      <td>0.0</td>\n",
       "      <td>0.0</td>\n",
       "      <td>0.0</td>\n",
       "      <td>0.0</td>\n",
       "      <td>0.0</td>\n",
       "      <td>0.0</td>\n",
       "      <td>0.0</td>\n",
       "      <td>0.0</td>\n",
       "      <td>0.0</td>\n",
       "      <td>0.0</td>\n",
       "      <td>0.0</td>\n",
       "      <td>0.0</td>\n",
       "      <td>0.0</td>\n",
       "      <td>0.0</td>\n",
       "      <td>0.0</td>\n",
       "      <td>0.0</td>\n",
       "      <td>0.0</td>\n",
       "      <td>0.0</td>\n",
       "      <td>0.0</td>\n",
       "      <td>0.0</td>\n",
       "      <td>0.0</td>\n",
       "      <td>0.0</td>\n",
       "      <td>0.0</td>\n",
       "      <td>1.0</td>\n",
       "      <td>0.0</td>\n",
       "    </tr>\n",
       "    <tr>\n",
       "      <th>4</th>\n",
       "      <td>36.0</td>\n",
       "      <td>34.0</td>\n",
       "      <td>50.0</td>\n",
       "      <td>0.0</td>\n",
       "      <td>0.0</td>\n",
       "      <td>0.0</td>\n",
       "      <td>0.0</td>\n",
       "      <td>0.0</td>\n",
       "      <td>0.0</td>\n",
       "      <td>0.0</td>\n",
       "      <td>0.0</td>\n",
       "      <td>0.0</td>\n",
       "      <td>0.0</td>\n",
       "      <td>1.0</td>\n",
       "      <td>1.0</td>\n",
       "      <td>0.0</td>\n",
       "      <td>0.0</td>\n",
       "      <td>1.0</td>\n",
       "      <td>0.0</td>\n",
       "      <td>0.0</td>\n",
       "      <td>0.0</td>\n",
       "      <td>0.0</td>\n",
       "      <td>0.0</td>\n",
       "      <td>0.0</td>\n",
       "      <td>1.0</td>\n",
       "      <td>0.0</td>\n",
       "      <td>0.0</td>\n",
       "      <td>0.0</td>\n",
       "      <td>0.0</td>\n",
       "      <td>0.0</td>\n",
       "      <td>0.0</td>\n",
       "      <td>0.0</td>\n",
       "      <td>0.0</td>\n",
       "      <td>0.0</td>\n",
       "      <td>0.0</td>\n",
       "      <td>0.0</td>\n",
       "      <td>0.0</td>\n",
       "      <td>0.0</td>\n",
       "      <td>0.0</td>\n",
       "      <td>0.0</td>\n",
       "      <td>0.0</td>\n",
       "      <td>0.0</td>\n",
       "      <td>0.0</td>\n",
       "      <td>0.0</td>\n",
       "      <td>0.0</td>\n",
       "      <td>0.0</td>\n",
       "      <td>0.0</td>\n",
       "      <td>0.0</td>\n",
       "      <td>0.0</td>\n",
       "      <td>0.0</td>\n",
       "      <td>0.0</td>\n",
       "      <td>0.0</td>\n",
       "      <td>0.0</td>\n",
       "      <td>0.0</td>\n",
       "      <td>0.0</td>\n",
       "      <td>0.0</td>\n",
       "      <td>0.0</td>\n",
       "      <td>1.0</td>\n",
       "      <td>0.0</td>\n",
       "    </tr>\n",
       "  </tbody>\n",
       "</table>\n",
       "</div>"
      ],
      "text/plain": [
       "   area  offer_time  agent_fee  renovation_x0_0.0  renovation_x0_1.0  renovation_x0_2.0  renovation_x0_3.0  renovation_x0_4.0  renovation_x0_5.0  renovation_x0_6.0  renovation_x0_7.0  renovation_x0_8.0  renovation_x0_10.0  renovation_x0_11.0  open_plan_x0_0  open_plan_x0_1  rooms_x0_0  rooms_x0_1  rooms_x0_2  rooms_x0_3  rooms_x0_4  rooms_x0_5  floor_x0_1  floor_x0_2  floor_x0_3  floor_x0_4  floor_x0_5  floor_x0_6  floor_x0_7  floor_x0_8  floor_x0_9  floor_x0_10  floor_x0_11  floor_x0_12  floor_x0_13  floor_x0_14  floor_x0_15  floor_x0_16  floor_x0_17  floor_x0_18  floor_x0_19  floor_x0_20  floor_x0_21  floor_x0_22  floor_x0_23  floor_x0_24  floor_x0_25  floor_x0_26  floor_x0_27  floor_x0_28  floor_x0_29  floor_x0_30  floor_x0_32  floor_x0_33  floor_x0_34  floor_x0_35  floor_x0_36  studio_x0_0  studio_x0_1\n",
       "0  28.0       360.0      100.0                0.0                0.0                0.0                1.0                0.0                0.0                0.0                0.0                0.0                 0.0                 0.0             1.0             0.0         0.0         1.0         0.0         0.0         0.0         0.0         0.0         0.0         0.0         0.0         0.0         0.0         1.0         0.0         0.0          0.0          0.0          0.0          0.0          0.0          0.0          0.0          0.0          0.0          0.0          0.0          0.0          0.0          0.0          0.0          0.0          0.0          0.0          0.0          0.0          0.0          0.0          0.0          0.0          0.0          0.0          1.0          0.0\n",
       "1  59.0       108.0      100.0                0.0                0.0                0.0                1.0                0.0                0.0                0.0                0.0                0.0                 0.0                 0.0             1.0             0.0         0.0         0.0         1.0         0.0         0.0         0.0         0.0         0.0         0.0         1.0         0.0         0.0         0.0         0.0         0.0          0.0          0.0          0.0          0.0          0.0          0.0          0.0          0.0          0.0          0.0          0.0          0.0          0.0          0.0          0.0          0.0          0.0          0.0          0.0          0.0          0.0          0.0          0.0          0.0          0.0          0.0          1.0          0.0\n",
       "2  36.0       159.0      100.0                0.0                0.0                0.0                1.0                0.0                0.0                0.0                0.0                0.0                 0.0                 0.0             1.0             0.0         0.0         1.0         0.0         0.0         0.0         0.0         0.0         0.0         0.0         0.0         0.0         1.0         0.0         0.0         0.0          0.0          0.0          0.0          0.0          0.0          0.0          0.0          0.0          0.0          0.0          0.0          0.0          0.0          0.0          0.0          0.0          0.0          0.0          0.0          0.0          0.0          0.0          0.0          0.0          0.0          0.0          1.0          0.0\n",
       "3  39.0        24.0       90.0                1.0                0.0                0.0                0.0                0.0                0.0                0.0                0.0                0.0                 0.0                 0.0             1.0             0.0         0.0         1.0         0.0         0.0         0.0         0.0         0.0         0.0         0.0         0.0         0.0         0.0         0.0         1.0         0.0          0.0          0.0          0.0          0.0          0.0          0.0          0.0          0.0          0.0          0.0          0.0          0.0          0.0          0.0          0.0          0.0          0.0          0.0          0.0          0.0          0.0          0.0          0.0          0.0          0.0          0.0          1.0          0.0\n",
       "4  36.0        34.0       50.0                0.0                0.0                0.0                0.0                0.0                0.0                0.0                0.0                0.0                 0.0                 1.0             1.0             0.0         0.0         1.0         0.0         0.0         0.0         0.0         0.0         0.0         1.0         0.0         0.0         0.0         0.0         0.0         0.0          0.0          0.0          0.0          0.0          0.0          0.0          0.0          0.0          0.0          0.0          0.0          0.0          0.0          0.0          0.0          0.0          0.0          0.0          0.0          0.0          0.0          0.0          0.0          0.0          0.0          0.0          1.0          0.0"
      ]
     },
     "execution_count": 24,
     "metadata": {},
     "output_type": "execute_result"
    }
   ],
   "source": [
    "result = mapper.fit_transform(rent_df_cleaned)\n",
    "result.head()"
   ]
  },
  {
   "cell_type": "code",
   "execution_count": 25,
   "metadata": {},
   "outputs": [
    {
     "data": {
      "text/plain": [
       "Pipeline(steps=[('preprocessing',\n",
       "                 DataFrameMapper(df_out=True, drop_cols=[],\n",
       "                                 features=[(['area'], SimpleImputer()),\n",
       "                                           (['offer_time'], SimpleImputer()),\n",
       "                                           (['agent_fee'], SimpleImputer()),\n",
       "                                           (['renovation'],\n",
       "                                            OneHotEncoder(handle_unknown='ignore')),\n",
       "                                           (['open_plan'],\n",
       "                                            OneHotEncoder(handle_unknown='ignore')),\n",
       "                                           (['rooms'],\n",
       "                                            OneHotEncoder(handle_unknown='ignore')),\n",
       "                                           (['floor'],\n",
       "                                            OneHotEncoder(handle_unknown='ignore')),\n",
       "                                           (['studio'],\n",
       "                                            OneHotEncoder(handle_unknown='ignore'))])),\n",
       "                ('scaler', StandardScaler()),\n",
       "                ('LinearRegression', LinearRegression())])"
      ]
     },
     "execution_count": 25,
     "metadata": {},
     "output_type": "execute_result"
    }
   ],
   "source": [
    "pipeline.fit(X_train, y_train)"
   ]
  },
  {
   "cell_type": "code",
   "execution_count": 26,
   "metadata": {},
   "outputs": [
    {
     "name": "stdout",
     "output_type": "stream",
     "text": [
      "LR RMSE train = 10309.222\n",
      "LR MAPE train = 0.22\n",
      "Accuracy =  59.90070722938139 %\n"
     ]
    }
   ],
   "source": [
    "train_pred = pipeline.predict(X_train)\n",
    "rmse = mean_squared_error(y_true=y_train, y_pred = train_pred, squared=False)\n",
    "mape = mean_absolute_percentage_error(y_true=y_train, y_pred=train_pred)\n",
    "accuracy = pipeline.score(X_train,y_train)\n",
    "\n",
    "\n",
    "print (f'LR RMSE train = {round(rmse, 3)}')\n",
    "print (f'LR MAPE train = {round(mape, 3)}')\n",
    "print('Accuracy = ', accuracy*100,'%')"
   ]
  },
  {
   "cell_type": "code",
   "execution_count": 27,
   "metadata": {},
   "outputs": [
    {
     "name": "stdout",
     "output_type": "stream",
     "text": [
      "LR RMSE test = 11318.566\n",
      "LR MAPE test = 0.23\n",
      "Accuracy =  61.11019540630518 %\n"
     ]
    }
   ],
   "source": [
    "test_pred = pipeline.predict(X_valid)\n",
    "rmse = mean_squared_error(y_true=y_valid, y_pred = test_pred, squared=False)\n",
    "mape = mean_absolute_percentage_error(y_true=y_valid, y_pred=test_pred)\n",
    "accuracy = pipeline.score(X_valid,y_valid)\n",
    "\n",
    "print (f'LR RMSE test = {round(rmse, 3)}')\n",
    "print (f'LR MAPE test = {round(mape, 3)}')\n",
    "print('Accuracy = ', accuracy*100,'%')"
   ]
  },
  {
   "cell_type": "code",
   "execution_count": 28,
   "metadata": {},
   "outputs": [
    {
     "data": {
      "text/plain": [
       "Pipeline(steps=[('preprocessing',\n",
       "                 DataFrameMapper(df_out=True, drop_cols=[],\n",
       "                                 features=[(['area'], SimpleImputer()),\n",
       "                                           (['offer_time'], SimpleImputer()),\n",
       "                                           (['agent_fee'], SimpleImputer()),\n",
       "                                           (['renovation'],\n",
       "                                            OneHotEncoder(handle_unknown='ignore')),\n",
       "                                           (['open_plan'],\n",
       "                                            OneHotEncoder(handle_unknown='ignore')),\n",
       "                                           (['rooms'],\n",
       "                                            OneHotEncoder(handle_unknown='ignore')),\n",
       "                                           (['floor'],\n",
       "                                            OneHotEncoder(handle_unknown='ignore')),\n",
       "                                           (['studio'],\n",
       "                                            OneHotEncoder(handle_unknown='ignore'))])),\n",
       "                ('scaler', StandardScaler()),\n",
       "                ('decision_tree',\n",
       "                 DecisionTreeRegressor(max_depth=10, max_features=4,\n",
       "                                       min_samples_leaf=8))])"
      ]
     },
     "execution_count": 28,
     "metadata": {},
     "output_type": "execute_result"
    }
   ],
   "source": [
    "mapper = DataFrameMapper([([feature], SimpleImputer()) for feature in numeric_features] +\\\n",
    "                         [([feature], OneHotEncoder(handle_unknown='ignore')) for feature in nominal_features],\n",
    "                             df_out=True)\n",
    "\n",
    "pipeline = Pipeline(steps = [('preprocessing', mapper), \n",
    "                             ('scaler', StandardScaler()),\n",
    "                             ('decision_tree', DecisionTreeRegressor(max_depth=10, min_samples_leaf=8, max_features=4))])\n",
    "                             \n",
    "pipeline"
   ]
  },
  {
   "cell_type": "code",
   "execution_count": 29,
   "metadata": {},
   "outputs": [
    {
     "data": {
      "text/plain": [
       "Pipeline(steps=[('preprocessing',\n",
       "                 DataFrameMapper(df_out=True, drop_cols=[],\n",
       "                                 features=[(['area'], SimpleImputer()),\n",
       "                                           (['offer_time'], SimpleImputer()),\n",
       "                                           (['agent_fee'], SimpleImputer()),\n",
       "                                           (['renovation'],\n",
       "                                            OneHotEncoder(handle_unknown='ignore')),\n",
       "                                           (['open_plan'],\n",
       "                                            OneHotEncoder(handle_unknown='ignore')),\n",
       "                                           (['rooms'],\n",
       "                                            OneHotEncoder(handle_unknown='ignore')),\n",
       "                                           (['floor'],\n",
       "                                            OneHotEncoder(handle_unknown='ignore')),\n",
       "                                           (['studio'],\n",
       "                                            OneHotEncoder(handle_unknown='ignore'))])),\n",
       "                ('scaler', StandardScaler()),\n",
       "                ('decision_tree',\n",
       "                 DecisionTreeRegressor(max_depth=10, max_features=4,\n",
       "                                       min_samples_leaf=8))])"
      ]
     },
     "execution_count": 29,
     "metadata": {},
     "output_type": "execute_result"
    }
   ],
   "source": [
    "pipeline.fit(X_train, y_train)"
   ]
  },
  {
   "cell_type": "code",
   "execution_count": 30,
   "metadata": {},
   "outputs": [
    {
     "name": "stdout",
     "output_type": "stream",
     "text": [
      "RMSE train = 10654.852\n",
      "MAPE train = 0.208\n",
      "Accuracy =  57.16687748796476 %\n"
     ]
    }
   ],
   "source": [
    "train_pred = pipeline.predict(X_train)\n",
    "rmse = mean_squared_error(y_true=y_train, y_pred = train_pred, squared=False)\n",
    "mape = mean_absolute_percentage_error(y_true=y_train, y_pred=train_pred)\n",
    "accuracy = pipeline.score(X_train,y_train)\n",
    "\n",
    "\n",
    "print (f'RMSE train = {round(rmse, 3)}')\n",
    "print (f'MAPE train = {round(mape, 3)}')\n",
    "print('Accuracy = ', accuracy*100,'%')"
   ]
  },
  {
   "cell_type": "code",
   "execution_count": 31,
   "metadata": {},
   "outputs": [
    {
     "name": "stdout",
     "output_type": "stream",
     "text": [
      "RMSE test = 12055.573\n",
      "MAPE test = 0.218\n",
      "Accuracy =  55.880697614429565 %\n"
     ]
    }
   ],
   "source": [
    "test_pred = pipeline.predict(X_valid)\n",
    "rmse = mean_squared_error(y_true=y_valid, y_pred = test_pred, squared=False)\n",
    "mape = mean_absolute_percentage_error(y_true=y_valid, y_pred=test_pred)\n",
    "accuracy = pipeline.score(X_valid,y_valid)\n",
    "\n",
    "print (f'RMSE test = {round(rmse, 3)}')\n",
    "print (f'MAPE test = {round(mape, 3)}')\n",
    "print('Accuracy = ', accuracy*100,'%')"
   ]
  },
  {
   "cell_type": "code",
   "execution_count": 32,
   "metadata": {},
   "outputs": [
    {
     "data": {
      "text/plain": [
       "Pipeline(steps=[('preprocessing',\n",
       "                 DataFrameMapper(df_out=True, drop_cols=[],\n",
       "                                 features=[(['area'], SimpleImputer()),\n",
       "                                           (['offer_time'], SimpleImputer()),\n",
       "                                           (['agent_fee'], SimpleImputer()),\n",
       "                                           (['renovation'],\n",
       "                                            OneHotEncoder(handle_unknown='ignore')),\n",
       "                                           (['open_plan'],\n",
       "                                            OneHotEncoder(handle_unknown='ignore')),\n",
       "                                           (['rooms'],\n",
       "                                            OneHotEncoder(handle_unknown='ignore')),\n",
       "                                           (['floor'],\n",
       "                                            OneHotEncoder(handle_unknown='ignore')),\n",
       "                                           (['studio'],\n",
       "                                            OneHotEncoder(handle_unknown='ignore'))])),\n",
       "                ('scaler', StandardScaler()),\n",
       "                ('random_forest', RandomForestRegressor(random_state=99))])"
      ]
     },
     "execution_count": 32,
     "metadata": {},
     "output_type": "execute_result"
    }
   ],
   "source": [
    "mapper = DataFrameMapper([([feature], SimpleImputer()) for feature in numeric_features] +\\\n",
    "                         [([feature], OneHotEncoder(handle_unknown='ignore')) for feature in nominal_features],\n",
    "                             df_out=True)\n",
    "\n",
    "pipeline = Pipeline(steps = [('preprocessing', mapper), \n",
    "                             ('scaler', StandardScaler()),\n",
    "                             ('random_forest', RandomForestRegressor(random_state=99))])\n",
    "pipeline"
   ]
  },
  {
   "cell_type": "code",
   "execution_count": 33,
   "metadata": {},
   "outputs": [
    {
     "name": "stderr",
     "output_type": "stream",
     "text": [
      "/opt/conda/lib/python3.9/site-packages/sklearn/pipeline.py:346: DataConversionWarning: A column-vector y was passed when a 1d array was expected. Please change the shape of y to (n_samples,), for example using ravel().\n",
      "  self._final_estimator.fit(Xt, y, **fit_params_last_step)\n"
     ]
    },
    {
     "data": {
      "text/plain": [
       "Pipeline(steps=[('preprocessing',\n",
       "                 DataFrameMapper(df_out=True, drop_cols=[],\n",
       "                                 features=[(['area'], SimpleImputer()),\n",
       "                                           (['offer_time'], SimpleImputer()),\n",
       "                                           (['agent_fee'], SimpleImputer()),\n",
       "                                           (['renovation'],\n",
       "                                            OneHotEncoder(handle_unknown='ignore')),\n",
       "                                           (['open_plan'],\n",
       "                                            OneHotEncoder(handle_unknown='ignore')),\n",
       "                                           (['rooms'],\n",
       "                                            OneHotEncoder(handle_unknown='ignore')),\n",
       "                                           (['floor'],\n",
       "                                            OneHotEncoder(handle_unknown='ignore')),\n",
       "                                           (['studio'],\n",
       "                                            OneHotEncoder(handle_unknown='ignore'))])),\n",
       "                ('scaler', StandardScaler()),\n",
       "                ('random_forest', RandomForestRegressor(random_state=99))])"
      ]
     },
     "execution_count": 33,
     "metadata": {},
     "output_type": "execute_result"
    }
   ],
   "source": [
    "pipeline.fit(X_train, y_train)"
   ]
  },
  {
   "cell_type": "code",
   "execution_count": 34,
   "metadata": {},
   "outputs": [
    {
     "name": "stdout",
     "output_type": "stream",
     "text": [
      "RMSE train = 4056.847\n",
      "MAPE train = 0.08\n",
      "Accuracy =  93.7904206471246 %\n"
     ]
    }
   ],
   "source": [
    "train_pred = pipeline.predict(X_train)\n",
    "rmse = mean_squared_error(y_true=y_train, y_pred = train_pred, squared=False)\n",
    "mape = mean_absolute_percentage_error(y_true=y_train, y_pred=train_pred)\n",
    "accuracy = pipeline.score(X_train,y_train)\n",
    "\n",
    "\n",
    "print (f'RMSE train = {round(rmse, 3)}')\n",
    "print (f'MAPE train = {round(mape, 3)}')\n",
    "print('Accuracy = ', accuracy*100,'%')"
   ]
  },
  {
   "cell_type": "code",
   "execution_count": 35,
   "metadata": {},
   "outputs": [
    {
     "name": "stdout",
     "output_type": "stream",
     "text": [
      "RMSE test = 11431.507\n",
      "MAPE test = 0.22\n",
      "Accuracy =  60.33021500917766 %\n"
     ]
    }
   ],
   "source": [
    "test_pred = pipeline.predict(X_valid)\n",
    "rmse = mean_squared_error(y_true=y_valid, y_pred = test_pred, squared=False)\n",
    "mape = mean_absolute_percentage_error(y_true=y_valid, y_pred=test_pred)\n",
    "accuracy = pipeline.score(X_valid,y_valid)\n",
    "\n",
    "print (f'RMSE test = {round(rmse, 3)}')\n",
    "print (f'MAPE test = {round(mape, 3)}')\n",
    "print('Accuracy = ', accuracy*100,'%')"
   ]
  },
  {
   "cell_type": "code",
   "execution_count": 36,
   "metadata": {},
   "outputs": [
    {
     "data": {
      "text/plain": [
       "Pipeline(steps=[('preprocessing',\n",
       "                 DataFrameMapper(df_out=True, drop_cols=[],\n",
       "                                 features=[(['area'], SimpleImputer()),\n",
       "                                           (['offer_time'], SimpleImputer()),\n",
       "                                           (['agent_fee'], SimpleImputer()),\n",
       "                                           (['renovation'],\n",
       "                                            OneHotEncoder(handle_unknown='ignore')),\n",
       "                                           (['open_plan'],\n",
       "                                            OneHotEncoder(handle_unknown='ignore')),\n",
       "                                           (['rooms'],\n",
       "                                            OneHotEncoder(handle_unknown='ignore')),\n",
       "                                           (['floor'],\n",
       "                                            O...\n",
       "                              grow_policy=None, importance_type=None,\n",
       "                              interaction_constraints=None, learning_rate=None,\n",
       "                              max_bin=None, max_cat_threshold=None,\n",
       "                              max_cat_to_onehot=None, max_delta_step=None,\n",
       "                              max_depth=None, max_leaves=None,\n",
       "                              min_child_weight=None, missing=nan,\n",
       "                              monotone_constraints=None, n_estimators=100,\n",
       "                              n_jobs=None, num_parallel_tree=None,\n",
       "                              objective='reg:linear', predictor=None, ...))])"
      ]
     },
     "execution_count": 36,
     "metadata": {},
     "output_type": "execute_result"
    }
   ],
   "source": [
    "from sklearn_pandas import DataFrameMapper\n",
    "from sklearn.impute import SimpleImputer\n",
    "mapper = DataFrameMapper([([feature], SimpleImputer()) for feature in numeric_features] +\\\n",
    "                         [([feature], OneHotEncoder(handle_unknown='ignore')) for feature in nominal_features],\n",
    "                             df_out=True)\n",
    "\n",
    "pipeline = Pipeline(steps = [('preprocessing', mapper), \n",
    "                             ('scaler', StandardScaler()),\n",
    "                             ('xgb', xgb.XGBRegressor(objective=\"reg:linear\", random_state=99))])\n",
    "pipeline"
   ]
  },
  {
   "cell_type": "code",
   "execution_count": 37,
   "metadata": {},
   "outputs": [
    {
     "name": "stdout",
     "output_type": "stream",
     "text": [
      "[15:55:11] WARNING: ../src/objective/regression_obj.cu:213: reg:linear is now deprecated in favor of reg:squarederror.\n"
     ]
    },
    {
     "data": {
      "text/plain": [
       "Pipeline(steps=[('preprocessing',\n",
       "                 DataFrameMapper(df_out=True, drop_cols=[],\n",
       "                                 features=[(['area'], SimpleImputer()),\n",
       "                                           (['offer_time'], SimpleImputer()),\n",
       "                                           (['agent_fee'], SimpleImputer()),\n",
       "                                           (['renovation'],\n",
       "                                            OneHotEncoder(handle_unknown='ignore')),\n",
       "                                           (['open_plan'],\n",
       "                                            OneHotEncoder(handle_unknown='ignore')),\n",
       "                                           (['rooms'],\n",
       "                                            OneHotEncoder(handle_unknown='ignore')),\n",
       "                                           (['floor'],\n",
       "                                            O...\n",
       "                              feature_types=None, gamma=0, gpu_id=-1,\n",
       "                              grow_policy='depthwise', importance_type=None,\n",
       "                              interaction_constraints='',\n",
       "                              learning_rate=0.300000012, max_bin=256,\n",
       "                              max_cat_threshold=64, max_cat_to_onehot=4,\n",
       "                              max_delta_step=0, max_depth=6, max_leaves=0,\n",
       "                              min_child_weight=1, missing=nan,\n",
       "                              monotone_constraints='()', n_estimators=100,\n",
       "                              n_jobs=0, num_parallel_tree=1,\n",
       "                              objective='reg:linear', predictor='auto', ...))])"
      ]
     },
     "execution_count": 37,
     "metadata": {},
     "output_type": "execute_result"
    }
   ],
   "source": [
    "pipeline.fit(X_train, y_train)"
   ]
  },
  {
   "cell_type": "code",
   "execution_count": 38,
   "metadata": {},
   "outputs": [
    {
     "name": "stdout",
     "output_type": "stream",
     "text": [
      "RMSE train = 6548.027\n",
      "MAPE train = 0.162\n",
      "Accuracy =  83.8227061344956 %\n"
     ]
    }
   ],
   "source": [
    "train_pred = pipeline.predict(X_train)\n",
    "rmse = mean_squared_error(y_true=y_train, y_pred = train_pred, squared=False)\n",
    "mape = mean_absolute_percentage_error(y_true=y_train, y_pred=train_pred)\n",
    "accuracy = pipeline.score(X_train,y_train)\n",
    "\n",
    "\n",
    "print (f'RMSE train = {round(rmse, 3)}')\n",
    "print (f'MAPE train = {round(mape, 3)}')\n",
    "print('Accuracy = ', accuracy*100,'%')"
   ]
  },
  {
   "cell_type": "code",
   "execution_count": 39,
   "metadata": {},
   "outputs": [
    {
     "name": "stdout",
     "output_type": "stream",
     "text": [
      "RMSE test = 11262.311\n",
      "MAPE test = 0.204\n",
      "Accuracy =  61.49581308774685 %\n"
     ]
    }
   ],
   "source": [
    "test_pred = pipeline.predict(X_valid)\n",
    "rmse = mean_squared_error(y_true=y_valid, y_pred = test_pred, squared=False)\n",
    "mape = mean_absolute_percentage_error(y_true=y_valid, y_pred=test_pred)\n",
    "accuracy = pipeline.score(X_valid,y_valid)\n",
    "\n",
    "print (f'RMSE test = {round(rmse, 3)}')\n",
    "print (f'MAPE test = {round(mape, 3)}')\n",
    "print('Accuracy = ', accuracy*100,'%')"
   ]
  },
  {
   "cell_type": "code",
   "execution_count": 40,
   "metadata": {},
   "outputs": [
    {
     "data": {
      "text/plain": [
       "array([21045.004, 25907.129, 51685.703, ..., 37575.45 , 20018.14 ,\n",
       "       20862.496], dtype=float32)"
      ]
     },
     "execution_count": 40,
     "metadata": {},
     "output_type": "execute_result"
    }
   ],
   "source": [
    "test_pred"
   ]
  },
  {
   "cell_type": "code",
   "execution_count": 42,
   "metadata": {},
   "outputs": [],
   "source": [
    "import joblib"
   ]
  },
  {
   "cell_type": "code",
   "execution_count": 43,
   "metadata": {},
   "outputs": [
    {
     "data": {
      "text/plain": [
       "['model.pkl']"
      ]
     },
     "execution_count": 43,
     "metadata": {},
     "output_type": "execute_result"
    }
   ],
   "source": [
    "model_file = 'model.pkl'\n",
    "\n",
    "joblib.dump(pipeline, model_file)"
   ]
  },
  {
   "cell_type": "code",
   "execution_count": null,
   "metadata": {},
   "outputs": [],
   "source": []
  }
 ],
 "metadata": {
  "kernelspec": {
   "display_name": "Python 3 (ipykernel)",
   "language": "python",
   "name": "python3"
  },
  "language_info": {
   "codemirror_mode": {
    "name": "ipython",
    "version": 3
   },
   "file_extension": ".py",
   "mimetype": "text/x-python",
   "name": "python",
   "nbconvert_exporter": "python",
   "pygments_lexer": "ipython3",
   "version": "3.9.6"
  },
  "varInspector": {
   "cols": {
    "lenName": 16,
    "lenType": 16,
    "lenVar": 40
   },
   "kernels_config": {
    "python": {
     "delete_cmd_postfix": "",
     "delete_cmd_prefix": "del ",
     "library": "var_list.py",
     "varRefreshCmd": "print(var_dic_list())"
    },
    "r": {
     "delete_cmd_postfix": ") ",
     "delete_cmd_prefix": "rm(",
     "library": "var_list.r",
     "varRefreshCmd": "cat(var_dic_list()) "
    }
   },
   "types_to_exclude": [
    "module",
    "function",
    "builtin_function_or_method",
    "instance",
    "_Feature"
   ],
   "window_display": false
  }
 },
 "nbformat": 4,
 "nbformat_minor": 2
}
